{
 "cells": [
  {
   "cell_type": "markdown",
   "metadata": {},
   "source": [
    "# Guassian Mixture Model \n",
    "\n"
   ]
  },
  {
   "cell_type": "code",
   "execution_count": 1,
   "metadata": {},
   "outputs": [],
   "source": [
    "import matplotlib.pyplot as plt\n",
    "import numpy as np\n",
    "\n",
    "#for normalization + probability density function computation\n",
    "from scipy import stats\n",
    "\n",
    "import seaborn as sns\n",
    "sns.set_style(\"white\")\n",
    "\n",
    "%matplotlib inline"
   ]
  },
  {
   "cell_type": "code",
   "execution_count": 2,
   "metadata": {},
   "outputs": [
    {
     "data": {
      "text/plain": [
       "[<matplotlib.lines.Line2D at 0x1133f9f50>]"
      ]
     },
     "execution_count": 2,
     "metadata": {},
     "output_type": "execute_result"
    },
    {
     "data": {
      "image/png": "[encoded data removed]",
      "text/plain": [
       "<matplotlib.figure.Figure at 0x11335a610>"
      ]
     },
     "metadata": {},
     "output_type": "display_data"
    }
   ],
   "source": [
    "# Return evenly spaced numbers over a specified interval.\n",
    "x = np.linspace(start=-10, stop=10, num=1000)\n",
    "\n",
    "# x is a normal continuous random variable.\n",
    "# The location (loc) keyword specifies the mean. The scale (scale) keyword specifies the standard deviation.\n",
    "y = stats.norm.pdf(x, loc=0, scale=1.5) \n",
    "\n",
    "# plot it!\n",
    "plt.plot(x, y)"
   ]
  },
  {
   "cell_type": "code",
   "execution_count": 3,
   "metadata": {
    "collapsed": true
   },
   "outputs": [],
   "source": [
    "import pandas as pd"
   ]
  },
  {
   "cell_type": "code",
   "execution_count": 4,
   "metadata": {},
   "outputs": [
    {
     "data": {
      "text/html": [
       "<div>\n",
       "<style>\n",
       "    .dataframe thead tr:only-child th {\n",
       "        text-align: right;\n",
       "    }\n",
       "\n",
       "    .dataframe thead th {\n",
       "        text-align: left;\n",
       "    }\n",
       "\n",
       "    .dataframe tbody tr th {\n",
       "        vertical-align: top;\n",
       "    }\n",
       "</style>\n",
       "<table border=\"1\" class=\"dataframe\">\n",
       "  <thead>\n",
       "    <tr style=\"text-align: right;\">\n",
       "      <th></th>\n",
       "      <th>x</th>\n",
       "    </tr>\n",
       "  </thead>\n",
       "  <tbody>\n",
       "    <tr>\n",
       "      <th>0</th>\n",
       "      <td>0.252851</td>\n",
       "    </tr>\n",
       "    <tr>\n",
       "      <th>1</th>\n",
       "      <td>-1.034562</td>\n",
       "    </tr>\n",
       "    <tr>\n",
       "      <th>2</th>\n",
       "      <td>3.319558</td>\n",
       "    </tr>\n",
       "    <tr>\n",
       "      <th>3</th>\n",
       "      <td>4.552363</td>\n",
       "    </tr>\n",
       "    <tr>\n",
       "      <th>4</th>\n",
       "      <td>-0.775995</td>\n",
       "    </tr>\n",
       "  </tbody>\n",
       "</table>\n",
       "</div>"
      ],
      "text/plain": [
       "          x\n",
       "0  0.252851\n",
       "1 -1.034562\n",
       "2  3.319558\n",
       "3  4.552363\n",
       "4 -0.775995"
      ]
     },
     "execution_count": 4,
     "metadata": {},
     "output_type": "execute_result"
    }
   ],
   "source": [
    "df = pd.read_csv('bimodal_example.csv')\n",
    "\n",
    "df.head(5) # Show first 5 eamples (int BTC)  ==> One feature, one dimensional problem"
   ]
  },
  {
   "cell_type": "code",
   "execution_count": 5,
   "metadata": {},
   "outputs": [],
   "source": [
    "# Show the distribution of the data as a histogram\n",
    "data = df.x"
   ]
  },
  {
   "cell_type": "code",
   "execution_count": 6,
   "metadata": {},
   "outputs": [
    {
     "data": {
      "text/plain": [
       "<matplotlib.axes._subplots.AxesSubplot at 0x1133a73d0>"
      ]
     },
     "execution_count": 6,
     "metadata": {},
     "output_type": "execute_result"
    },
    {
     "data": {
      "image/png": "[encoded data removed]",
      "text/plain": [
       "<matplotlib.figure.Figure at 0x113434b50>"
      ]
     },
     "metadata": {},
     "output_type": "display_data"
    }
   ],
   "source": [
    "# Plot the histogram \n",
    "sns.distplot(data, bins=20, kde=False) # plot a univariate distribution of observations"
   ]
  },
  {
   "cell_type": "markdown",
   "metadata": {},
   "source": [
    "## Is the normal distribution a useful model for the data?"
   ]
  },
  {
   "cell_type": "code",
   "execution_count": 7,
   "metadata": {},
   "outputs": [
    {
     "data": {
      "text/plain": [
       "<matplotlib.axes._subplots.AxesSubplot at 0x11333c3d0>"
      ]
     },
     "execution_count": 7,
     "metadata": {},
     "output_type": "execute_result"
    },
    {
     "data": {
      "image/png": "[encoded data removed]",
      "text/plain": [
       "<matplotlib.figure.Figure at 0x11678e190>"
      ]
     },
     "metadata": {},
     "output_type": "display_data"
    }
   ],
   "source": [
    "# Try to fit a normal distribution to this data\n",
    "sns.distplot(data, fit=stats.norm, bins=20, kde=False,)"
   ]
  },
  {
   "cell_type": "markdown",
   "metadata": {},
   "source": [
    "## Define The Model\n",
    "\n",
    "Two Normal distributions $N(\\mu_1, \\sigma_1^2)$ and $N(\\mu_2, \\sigma_2^2)$.\n",
    "\n",
    "There are 5 paramaters: 4 of the them are Normal distributions and 1 more for the probability of choosing one of them.\n",
    "\n",
    "Let $w$ be the probability that the data comes from the first Normal, the parameter in this model is $\\theta = (w, \\mu_1, \\sigma_1^2, \\mu_2, \\sigma_2^2)$.\n",
    "\n",
    "The probability density function (PDF) is:\n",
    "$$f(x | \\theta) = w \\ f_1(x \\ | \\ \\mu_1, \\sigma_1^2) + (1 - w) \\ f_2 (x \\ | \\ \\mu_2, \\sigma_2^2) $$"
   ]
  },
  {
   "cell_type": "markdown",
   "metadata": {},
   "source": [
    "## Expectation–Maximization (EM) \n",
    "\n",
    "An iterative method for finding maximum likelihood (MLE) or maximum a posteriori (MAP) estimates of parameters in statistical models,when the model depends on unobserved latent variables\n",
    "\n",
    "   * Expectation (E) step: Given the current parameters of the model, estimate a probability distribution.\n",
    "\n",
    "   * Maximization (M) step: Given the current data, estimate the parameters to update the model.\n",
    "\n",
    "\n",
    "The M parameter-estimates are then used to determine the distribution of the latent variables in the next E step.\n",
    "\n",
    "\n",
    "#### EM is trying to maximize the following function:\n",
    "\n",
    "    X is directly observed variable\n",
    "    θ parameters of model\n",
    "    Z is not directly observed / latent variable\n",
    "        Z is a joint (related) distribution on x.\n",
    "\n"
   ]
  },
  {
   "cell_type": "markdown",
   "metadata": {},
   "source": [
    "## EM Steps  \n",
    "\n",
    "  1.  Initialize the parameters θ\n",
    "  2.  Compute the best values for Z given θ\n",
    "  3.  Use the computed values of Z to compute a better estimate for the θ\n",
    "  4.  Iterate steps 2 and 3 until convergence\n"
   ]
  },
  {
   "cell_type": "markdown",
   "metadata": {},
   "source": [
    "## EM steps, stated another way\n",
    "\n",
    "   1. Initialize the parameters of the models, either randomly or doing a \"smart seeding\"\n",
    "\n",
    "   2. E Step: Find the posterior probabilities of the latent variable given current parameter values.\n",
    "\n",
    "   3. M Step: Reestimate the parameter values given the current posterior probabilities.\n",
    "\n",
    "   4. Repeat 2-3 monitoring the likelihood function likelihood. Hope for convergence.\n"
   ]
  },
  {
   "cell_type": "code",
   "execution_count": 8,
   "metadata": {
    "collapsed": true
   },
   "outputs": [],
   "source": [
    "class Gaussian:\n",
    "    \"\"\" Model univariate Gaussian \"\"\"\n",
    "    def __init__(self, mu, sigma):\n",
    "        self.mu = mu   # Mean\n",
    "        self.sigma = sigma  # Standard deviation\n",
    "        \n",
    "    def pdf(self, datum):\n",
    "        \"\"\" Probability of a data point given the current parameters \"\"\"\n",
    "        u = (datum - self.mu) / abs(self.sigma)\n",
    "        y = (1 / (sqrt(2 * pi) * abs(self.sigma))) * exp(-u*u / 2)\n",
    "        return y\n",
    "    \n",
    "    def __repr__(self):\n",
    "        return 'Gaussian({0:4.6, {1:4.6}})'.format(self.mu, self.sigma)"
   ]
  },
  {
   "cell_type": "code",
   "execution_count": 9,
   "metadata": {},
   "outputs": [
    {
     "name": "stdout",
     "output_type": "stream",
     "text": [
      "Best single Gaussian: μ = 1.9, σ = 1.8\n"
     ]
    }
   ],
   "source": [
    "# Guassian of Best fit\n",
    "best_single = Gaussian(np.mean(data), np.std(data))\n",
    "print('Best single Gaussian: μ = {:.2}, σ = {:.2}'.format(best_single.mu, best_single.sigma))"
   ]
  },
  {
   "cell_type": "code",
   "execution_count": 10,
   "metadata": {},
   "outputs": [
    {
     "data": {
      "text/plain": [
       "<matplotlib.legend.Legend at 0x116857410>"
      ]
     },
     "execution_count": 10,
     "metadata": {},
     "output_type": "execute_result"
    },
    {
     "data": {
      "image/png": "[encoded data removed]",
      "text/plain": [
       "<matplotlib.figure.Figure at 0x116961690>"
      ]
     },
     "metadata": {},
     "output_type": "display_data"
    }
   ],
   "source": [
    "# Fit a single gaussian curve to data\n",
    "x = np.linspace(-6, 8, 200)\n",
    "g_single = stats.norm(best_single.mu, best_single.sigma).pdf(x)\n",
    "sns.distplot(data, bins=20, kde=False, norm_hist=True)\n",
    "plt.plot(x, g_single, label='single gaussian')\n",
    "plt.legend()"
   ]
  },
  {
   "cell_type": "code",
   "execution_count": 20,
   "metadata": {
    "collapsed": true
   },
   "outputs": [],
   "source": [
    "from math import sqrt, log, exp, pi\n",
    "from random import uniform"
   ]
  },
  {
   "cell_type": "code",
   "execution_count": 21,
   "metadata": {},
   "outputs": [],
   "source": [
    "class GaussianMixture:\n",
    "    \"\"\" Model mixture of two univariate Gaussians and their EM estimation \"\"\"\n",
    "    def __init__(self, data):\n",
    "        self.data = data\n",
    "        \n",
    "        # Initialize the parameters θ\n",
    "        mu_min = min(self.data)\n",
    "        mu_max = max(self.data)\n",
    "        sigma_min = 0.1\n",
    "        sigma_max = 1\n",
    "        mix = 0.5\n",
    "        \n",
    "        # Initialize with multiple gaussians\n",
    "        self.one = Gaussian(uniform(mu_min, mu_max), \n",
    "                            uniform(sigma_min, sigma_max))\n",
    "        self.two = Gaussian(uniform(mu_min, mu_max), \n",
    "                            uniform(sigma_min, sigma_max))\n",
    "        \n",
    "        # How much to mix them\n",
    "        self.mix = mix\n",
    "        \n",
    "    \"\"\" Basically, you make initial guesses for both the assignments of points to\n",
    "        distributions and their parameters, and then proceed iteratively.\n",
    "        Once you have initialized the assignments and parameters, you alternate between the \n",
    "        expectation and maximization steps untils your estimates converge (i.e. do not change\n",
    "        much between iterations; for a mixture of Gaussians this is similar to convergence in k-means)\n",
    "    \"\"\"\n",
    "    \n",
    "    def E_step(self):\n",
    "        \"\"\" Perform an E-step, freshening up self.loglike in the process \"\"\"\n",
    "        # Compute weights \n",
    "        self.loglike = 0.\n",
    "        \n",
    "        for datum in self.data:\n",
    "            # unnormalized weights\n",
    "            wp1 = self.one.pdf(datum) * self.mix\n",
    "            wp2 = self.two.pdf(datum) * (1. - self.mix)\n",
    "\n",
    "            # compute denominator\n",
    "            den = wp1 + wp2 \n",
    "            if den == 0:\n",
    "                print wp1, wp2\n",
    "            wp1 /= den\n",
    "            wp2 /= den\n",
    "            \n",
    "            self.loglike += log(wp1 + wp2)\n",
    "            \n",
    "            yield (wp1, wp2)\n",
    "            \n",
    "    def M_step(self, weights):\n",
    "        \"\"\" Perform an M-step \"\"\"\n",
    "        # Compute denominators \n",
    "        (left, right) = zip(*weights)\n",
    "        one_den = sum(left)\n",
    "        two_den = sum(right)\n",
    "        \n",
    "        # Compute new means \n",
    "        self.one.mu = sum(w * d / one_den for (w, d) in zip(left, self.data))\n",
    "        self.two.mu = sum(w * d / two_den for (w, d) in zip(right, self.data))\n",
    "        \n",
    "        # Compute new sigmas\n",
    "        self.one.sigma = sqrt(sum(w * ((d - self.one.mu) ** 2) for (w, d) in zip(left, self.data)) / one_den)\n",
    "        self.two.sigma = sqrt(sum(w * ((d - self.two.mu) ** 2) for (w, d) in zip(right, self.data)) / two_den)\n",
    "        \n",
    "        # Compute new mix\n",
    "        self.mix = one_den / len(data)\n",
    "        \n",
    "    def iterate(self, N=1, verbose=False):\n",
    "        \"\"\" Perform N iterations, then compute log-likelihood \"\"\"\n",
    "        for i in range(1, N+1):\n",
    "            self.M_step(self.E_step())\n",
    "            if verbose:\n",
    "                print('{0:2} {1}'.format(i, self))\n",
    "        self.E_step() # to freshen up self.loglike\n",
    "        \n",
    "    def pdf(self, x):\n",
    "        return (self.mix) * self.one.pdf(x) + (1 - self.mix) * self.two.pdf(x)\n",
    "    \n",
    "    def __repr__(self):\n",
    "        return 'GaussianMixture({0}, {1}, mix={2.03})'.format(self.one, \n",
    "                                                              self.two, \n",
    "                                                              self.mix)\n",
    "    def __str__(self):\n",
    "        return 'Mixture: {0}, {1}, mix={2:.03})'.format(self.one, \n",
    "                                                        self.two, \n",
    "                                                        self.mix)\n",
    "         \n",
    "                "
   ]
  },
  {
   "cell_type": "code",
   "execution_count": 22,
   "metadata": {},
   "outputs": [],
   "source": [
    "# Check out the fitting process\n",
    "n_iterations = 5\n",
    "best_mix = None\n",
    "best_loglike = float('-inf')\n",
    "mix = GaussianMixture(data)\n",
    "for _ in range(n_iterations):\n",
    "    try:\n",
    "        #train!\n",
    "        mix.iterate(verbose=True)\n",
    "        if mix.loglike > best_loglike:\n",
    "            best_loglike = mix.loglike\n",
    "            best_mix = mix\n",
    "        \n",
    "    except (ZeroDivisionError, ValueError, RuntimeWarning): # Catch division errors from bad starts, and just throw them out...\n",
    "        pass"
   ]
  },
  {
   "cell_type": "code",
   "execution_count": 23,
   "metadata": {},
   "outputs": [
    {
     "name": "stdout",
     "output_type": "stream",
     "text": [
      "Computing best model with random restarts...\n",
      "\n"
     ]
    },
    {
     "name": "stderr",
     "output_type": "stream",
     "text": [
      "/Users/michaeliu/anaconda2/lib/python2.7/site-packages/ipykernel_launcher.py:9: RuntimeWarning: divide by zero encountered in double_scalars\n",
      "  if __name__ == '__main__':\n"
     ]
    },
    {
     "name": "stdout",
     "output_type": "stream",
     "text": [
      "\n",
      "\n",
      "Done. 🙂\n"
     ]
    }
   ],
   "source": [
    "# Find best Mixture Gaussian model\n",
    "n_iterations = 20\n",
    "n_random_restarts = 500\n",
    "best_mix = None\n",
    "best_loglike = float('-inf')\n",
    "print('Computing best model with random restarts...\\n')\n",
    "for _ in range(n_random_restarts):\n",
    "    mix = GaussianMixture(data)\n",
    "    for _ in range(n_iterations):\n",
    "        try:\n",
    "            mix.iterate()\n",
    "            if mix.loglike > best_loglike:\n",
    "                best_loglike = mix.loglike\n",
    "                best_mix = mix\n",
    "        except (ZeroDivisionError, ValueError, RuntimeWarning): # Catch division errors from bad starts, and just throw them out...\n",
    "            pass\n",
    "print('\\n\\nDone. 🙂')"
   ]
  },
  {
   "cell_type": "code",
   "execution_count": 24,
   "metadata": {},
   "outputs": [
    {
     "data": {
      "text/plain": [
       "<matplotlib.legend.Legend at 0x116e91f10>"
      ]
     },
     "execution_count": 24,
     "metadata": {},
     "output_type": "execute_result"
    },
    {
     "data": {
      "image/png": "[encoded data removed]",
      "text/plain": [
       "<matplotlib.figure.Figure at 0x116e4fe50>"
      ]
     },
     "metadata": {},
     "output_type": "display_data"
    }
   ],
   "source": [
    "#mixture\n",
    "sns.distplot(data, bins=20, kde=False, norm_hist=True)\n",
    "g_both = [best_mix.pdf(e) for e in x]\n",
    "plt.plot(x, g_both, label='gaussian mixture')\n",
    "plt.legend()"
   ]
  }
 ],
 "metadata": {
  "kernelspec": {
   "display_name": "Python 2",
   "language": "python",
   "name": "python2"
  },
  "language_info": {
   "codemirror_mode": {
    "name": "ipython",
    "version": 2
   },
   "file_extension": ".py",
   "mimetype": "text/x-python",
   "name": "python",
   "nbconvert_exporter": "python",
   "pygments_lexer": "ipython2",
   "version": "2.7.13"
  }
 },
 "nbformat": 4,
 "nbformat_minor": 2
}
